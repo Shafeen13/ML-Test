{
 "cells": [
  {
   "cell_type": "code",
   "execution_count": 1,
   "id": "9498a1a3",
   "metadata": {},
   "outputs": [],
   "source": [
    "# importing Packages\n",
    "import pandas as pd\n",
    "import numpy as np\n",
    "import seaborn as sns\n",
    "import matplotlib.pyplot as plt\n",
    "from sklearn.linear_model import LinearRegression"
   ]
  },
  {
   "cell_type": "markdown",
   "id": "4077342f",
   "metadata": {},
   "source": [
    "Extracting the Data"
   ]
  },
  {
   "cell_type": "code",
   "execution_count": 2,
   "id": "d3a23f05",
   "metadata": {},
   "outputs": [],
   "source": [
    "# Reading the Data\n",
    "def read_data():\n",
    "    data=pd.read_csv(\"C:/Users/PC PC/Downloads/ML Tests/Data.csv\")\n",
    "    return data"
   ]
  },
  {
   "cell_type": "code",
   "execution_count": 3,
   "id": "d9c542aa",
   "metadata": {},
   "outputs": [
    {
     "name": "stdout",
     "output_type": "stream",
     "text": [
      "   surface  rooms_new  zipcode_new price_new   latitude  longitude\n",
      "0    138.0        4.0         1060    420000  40.804673 -73.963420\n",
      "1    130.0        5.0         1087    550000  52.355590   5.000561\n",
      "2    116.0        5.0         1061    425000  52.373044   4.837568\n",
      "3     92.0        5.0         1035    349511  52.416895   4.906767\n",
      "4    127.0        4.0         1013   1050000  52.396789   4.876607\n"
     ]
    }
   ],
   "source": [
    "# Calling the data\n",
    "data=read_data()\n",
    "print(data.head())"
   ]
  },
  {
   "cell_type": "markdown",
   "id": "cdd0d3a1",
   "metadata": {},
   "source": [
    "Processing the data"
   ]
  },
  {
   "cell_type": "code",
   "execution_count": 4,
   "id": "e28ac950",
   "metadata": {},
   "outputs": [
    {
     "name": "stdout",
     "output_type": "stream",
     "text": [
      "The number of rows and columns: (2191, 6)\n"
     ]
    }
   ],
   "source": [
    "print(\"The number of rows and columns:\",data.shape)"
   ]
  },
  {
   "cell_type": "code",
   "execution_count": 5,
   "id": "98399caa",
   "metadata": {},
   "outputs": [
    {
     "name": "stdout",
     "output_type": "stream",
     "text": [
      "The data types: surface        float64\n",
      "rooms_new      float64\n",
      "zipcode_new      int64\n",
      "price_new       object\n",
      "latitude       float64\n",
      "longitude      float64\n",
      "dtype: object\n"
     ]
    }
   ],
   "source": [
    "print(\"The data types:\",data.dtypes)"
   ]
  },
  {
   "cell_type": "code",
   "execution_count": 6,
   "id": "2da6974c",
   "metadata": {},
   "outputs": [],
   "source": [
    "data['zipcode_new']=pd.to_numeric(data['zipcode_new'],errors='coerce')\n",
    "data['price_new']=pd.to_numeric(data['price_new'],errors='coerce')"
   ]
  },
  {
   "cell_type": "code",
   "execution_count": 7,
   "id": "55774e77",
   "metadata": {},
   "outputs": [
    {
     "data": {
      "text/plain": [
       "surface         0\n",
       "rooms_new      28\n",
       "zipcode_new     0\n",
       "price_new       9\n",
       "latitude        0\n",
       "longitude       0\n",
       "dtype: int64"
      ]
     },
     "execution_count": 7,
     "metadata": {},
     "output_type": "execute_result"
    }
   ],
   "source": [
    "data.isnull().sum()"
   ]
  },
  {
   "cell_type": "code",
   "execution_count": 8,
   "id": "174f7ff1",
   "metadata": {},
   "outputs": [],
   "source": [
    "data.dropna(inplace=True)"
   ]
  },
  {
   "cell_type": "code",
   "execution_count": 9,
   "id": "6742bc6b",
   "metadata": {},
   "outputs": [
    {
     "data": {
      "text/plain": [
       "surface        0\n",
       "rooms_new      0\n",
       "zipcode_new    0\n",
       "price_new      0\n",
       "latitude       0\n",
       "longitude      0\n",
       "dtype: int64"
      ]
     },
     "execution_count": 9,
     "metadata": {},
     "output_type": "execute_result"
    }
   ],
   "source": [
    "data.isnull().sum()"
   ]
  },
  {
   "cell_type": "markdown",
   "id": "9319e4f5",
   "metadata": {},
   "source": [
    "Exploratory Data Analysis"
   ]
  },
  {
   "cell_type": "code",
   "execution_count": 10,
   "id": "33cb4171",
   "metadata": {},
   "outputs": [
    {
     "name": "stdout",
     "output_type": "stream",
     "text": [
      "Index(['surface', 'rooms_new', 'zipcode_new', 'price_new', 'latitude',\n",
      "       'longitude'],\n",
      "      dtype='object')\n"
     ]
    }
   ],
   "source": [
    "print(data.columns)"
   ]
  },
  {
   "cell_type": "code",
   "execution_count": 11,
   "id": "b3b76772",
   "metadata": {},
   "outputs": [
    {
     "name": "stdout",
     "output_type": "stream",
     "text": [
      "<bound method NDFrame.describe of       surface  rooms_new  zipcode_new  price_new   latitude  longitude\n",
      "0       138.0        4.0         1060   420000.0  40.804673 -73.963420\n",
      "1       130.0        5.0         1087   550000.0  52.355590   5.000561\n",
      "2       116.0        5.0         1061   425000.0  52.373044   4.837568\n",
      "3        92.0        5.0         1035   349511.0  52.416895   4.906767\n",
      "4       127.0        4.0         1013  1050000.0  52.396789   4.876607\n",
      "...       ...        ...          ...        ...        ...        ...\n",
      "2181     56.0        2.0         1068   197500.0  52.362400   4.804206\n",
      "2182     70.0        2.0         1069   197500.0  52.357638   4.790123\n",
      "2183     34.0        1.0         1055   174000.0  52.381707   4.854023\n",
      "2184     64.0        2.0         1025   235000.0  52.399622   4.936959\n",
      "2190     64.0        2.0         1025   211000.0  52.399622   4.936959\n",
      "\n",
      "[2154 rows x 6 columns]>\n"
     ]
    }
   ],
   "source": [
    "print(data.describe)"
   ]
  },
  {
   "cell_type": "code",
   "execution_count": 12,
   "id": "aa3fac32",
   "metadata": {},
   "outputs": [
    {
     "name": "stdout",
     "output_type": "stream",
     "text": [
      "<class 'pandas.core.frame.DataFrame'>\n",
      "Index: 2154 entries, 0 to 2190\n",
      "Data columns (total 6 columns):\n",
      " #   Column       Non-Null Count  Dtype  \n",
      "---  ------       --------------  -----  \n",
      " 0   surface      2154 non-null   float64\n",
      " 1   rooms_new    2154 non-null   float64\n",
      " 2   zipcode_new  2154 non-null   int64  \n",
      " 3   price_new    2154 non-null   float64\n",
      " 4   latitude     2154 non-null   float64\n",
      " 5   longitude    2154 non-null   float64\n",
      "dtypes: float64(5), int64(1)\n",
      "memory usage: 117.8 KB\n",
      "None\n"
     ]
    }
   ],
   "source": [
    "print(data.info())"
   ]
  },
  {
   "cell_type": "code",
   "execution_count": 13,
   "id": "96732681",
   "metadata": {},
   "outputs": [
    {
     "data": {
      "text/plain": [
       "<Axes: xlabel='rooms_new', ylabel='price_new'>"
      ]
     },
     "execution_count": 13,
     "metadata": {},
     "output_type": "execute_result"
    },
    {
     "data": {
      "image/png": "[encoded data removed]",
      "text/plain": [
       "<Figure size 640x480 with 1 Axes>"
      ]
     },
     "metadata": {},
     "output_type": "display_data"
    }
   ],
   "source": [
    "sns.scatterplot(x=data['rooms_new'],y=data['price_new'])"
   ]
  },
  {
   "cell_type": "markdown",
   "id": "c489681e",
   "metadata": {},
   "source": [
    "Splitting Data into Training and Testing"
   ]
  },
  {
   "cell_type": "code",
   "execution_count": 14,
   "id": "ea5d3348",
   "metadata": {},
   "outputs": [],
   "source": [
    "from sklearn.model_selection import train_test_split"
   ]
  },
  {
   "cell_type": "code",
   "execution_count": 15,
   "id": "5bff44f4",
   "metadata": {},
   "outputs": [],
   "source": [
    "X=data[['surface','rooms_new','zipcode_new','latitude','longitude']]\n",
    "y=data['price_new']"
   ]
  },
  {
   "cell_type": "code",
   "execution_count": 16,
   "id": "3fc925a1",
   "metadata": {},
   "outputs": [],
   "source": [
    "X_train,X_test,y_train,y_test = train_test_split(X,y, test_size=0.2,random_state=42)"
   ]
  },
  {
   "cell_type": "code",
   "execution_count": 17,
   "id": "42c6f6b6",
   "metadata": {},
   "outputs": [
    {
     "data": {
      "text/html": [
       "<div>\n",
       "<style scoped>\n",
       "    .dataframe tbody tr th:only-of-type {\n",
       "        vertical-align: middle;\n",
       "    }\n",
       "\n",
       "    .dataframe tbody tr th {\n",
       "        vertical-align: top;\n",
       "    }\n",
       "\n",
       "    .dataframe thead th {\n",
       "        text-align: right;\n",
       "    }\n",
       "</style>\n",
       "<table border=\"1\" class=\"dataframe\">\n",
       "  <thead>\n",
       "    <tr style=\"text-align: right;\">\n",
       "      <th></th>\n",
       "      <th>surface</th>\n",
       "      <th>rooms_new</th>\n",
       "      <th>zipcode_new</th>\n",
       "      <th>latitude</th>\n",
       "      <th>longitude</th>\n",
       "    </tr>\n",
       "  </thead>\n",
       "  <tbody>\n",
       "    <tr>\n",
       "      <th>867</th>\n",
       "      <td>74.0</td>\n",
       "      <td>3.0</td>\n",
       "      <td>1018</td>\n",
       "      <td>52.368387</td>\n",
       "      <td>4.918091</td>\n",
       "    </tr>\n",
       "    <tr>\n",
       "      <th>1625</th>\n",
       "      <td>90.0</td>\n",
       "      <td>3.0</td>\n",
       "      <td>1072</td>\n",
       "      <td>52.352201</td>\n",
       "      <td>4.890314</td>\n",
       "    </tr>\n",
       "  </tbody>\n",
       "</table>\n",
       "</div>"
      ],
      "text/plain": [
       "      surface  rooms_new  zipcode_new   latitude  longitude\n",
       "867      74.0        3.0         1018  52.368387   4.918091\n",
       "1625     90.0        3.0         1072  52.352201   4.890314"
      ]
     },
     "execution_count": 17,
     "metadata": {},
     "output_type": "execute_result"
    }
   ],
   "source": [
    "X_train.head(2)"
   ]
  },
  {
   "cell_type": "markdown",
   "id": "61374737",
   "metadata": {},
   "source": [
    "Multiple linear regression"
   ]
  },
  {
   "cell_type": "code",
   "execution_count": 18,
   "id": "cf9d214d",
   "metadata": {},
   "outputs": [],
   "source": [
    "from sklearn.linear_model import LinearRegression\n",
    "from sklearn.metrics import r2_score,mean_squared_error\n",
    "from math import sqrt"
   ]
  },
  {
   "cell_type": "code",
   "execution_count": 19,
   "id": "137548a5",
   "metadata": {},
   "outputs": [],
   "source": [
    "model=LinearRegression() # create a model"
   ]
  },
  {
   "cell_type": "code",
   "execution_count": 20,
   "id": "6b5f1b0c",
   "metadata": {},
   "outputs": [],
   "source": [
    "model_train=model.fit(X_train,y_train) # Fit the moddel with training data"
   ]
  },
  {
   "cell_type": "code",
   "execution_count": 21,
   "id": "a7fd7a08",
   "metadata": {},
   "outputs": [],
   "source": [
    "pred=model.predict(X_test) # making predictions"
   ]
  },
  {
   "cell_type": "code",
   "execution_count": 22,
   "id": "0b6f77dd",
   "metadata": {},
   "outputs": [
    {
     "name": "stdout",
     "output_type": "stream",
     "text": [
      "0.7666330246693972\n"
     ]
    }
   ],
   "source": [
    "# model evaluation\n",
    "mlr=r2_score(y_test,pred) \n",
    "print(mlr)"
   ]
  },
  {
   "cell_type": "code",
   "execution_count": 23,
   "id": "d97b51a7",
   "metadata": {},
   "outputs": [
    {
     "name": "stdout",
     "output_type": "stream",
     "text": [
      "MSE: 92728305469.25914\n"
     ]
    }
   ],
   "source": [
    "print(\"MSE:\",mean_squared_error(y_test,pred))"
   ]
  },
  {
   "cell_type": "code",
   "execution_count": 24,
   "id": "68788fa8",
   "metadata": {},
   "outputs": [
    {
     "name": "stdout",
     "output_type": "stream",
     "text": [
      "Root MSE: 304513.227084242\n"
     ]
    }
   ],
   "source": [
    "print(\"Root MSE:\",sqrt(mean_squared_error(y_test,pred)))"
   ]
  },
  {
   "cell_type": "markdown",
   "id": "c012a518",
   "metadata": {},
   "source": [
    "KNN Regression"
   ]
  },
  {
   "cell_type": "code",
   "execution_count": 25,
   "id": "d5485e4b",
   "metadata": {},
   "outputs": [],
   "source": [
    "from sklearn.neighbors import KNeighborsRegressor\n",
    "from sklearn.metrics import mean_squared_error"
   ]
  },
  {
   "cell_type": "code",
   "execution_count": 38,
   "id": "70b23e0f",
   "metadata": {},
   "outputs": [],
   "source": [
    "knn_regressor=KNeighborsRegressor(n_neighbors=5)"
   ]
  },
  {
   "cell_type": "code",
   "execution_count": 39,
   "id": "390a2dfd",
   "metadata": {},
   "outputs": [
    {
     "data": {
      "text/html": [
       "<style>#sk-container-id-3 {color: black;}#sk-container-id-3 pre{padding: 0;}#sk-container-id-3 div.sk-toggleable {background-color: white;}#sk-container-id-3 label.sk-toggleable__label {cursor: pointer;display: block;width: 100%;margin-bottom: 0;padding: 0.3em;box-sizing: border-box;text-align: center;}#sk-container-id-3 label.sk-toggleable__label-arrow:before {content: \"▸\";float: left;margin-right: 0.25em;color: #696969;}#sk-container-id-3 label.sk-toggleable__label-arrow:hover:before {color: black;}#sk-container-id-3 div.sk-estimator:hover label.sk-toggleable__label-arrow:before {color: black;}#sk-container-id-3 div.sk-toggleable__content {max-height: 0;max-width: 0;overflow: hidden;text-align: left;background-color: #f0f8ff;}#sk-container-id-3 div.sk-toggleable__content pre {margin: 0.2em;color: black;border-radius: 0.25em;background-color: #f0f8ff;}#sk-container-id-3 input.sk-toggleable__control:checked~div.sk-toggleable__content {max-height: 200px;max-width: 100%;overflow: auto;}#sk-container-id-3 input.sk-toggleable__control:checked~label.sk-toggleable__label-arrow:before {content: \"▾\";}#sk-container-id-3 div.sk-estimator input.sk-toggleable__control:checked~label.sk-toggleable__label {background-color: #d4ebff;}#sk-container-id-3 div.sk-label input.sk-toggleable__control:checked~label.sk-toggleable__label {background-color: #d4ebff;}#sk-container-id-3 input.sk-hidden--visually {border: 0;clip: rect(1px 1px 1px 1px);clip: rect(1px, 1px, 1px, 1px);height: 1px;margin: -1px;overflow: hidden;padding: 0;position: absolute;width: 1px;}#sk-container-id-3 div.sk-estimator {font-family: monospace;background-color: #f0f8ff;border: 1px dotted black;border-radius: 0.25em;box-sizing: border-box;margin-bottom: 0.5em;}#sk-container-id-3 div.sk-estimator:hover {background-color: #d4ebff;}#sk-container-id-3 div.sk-parallel-item::after {content: \"\";width: 100%;border-bottom: 1px solid gray;flex-grow: 1;}#sk-container-id-3 div.sk-label:hover label.sk-toggleable__label {background-color: #d4ebff;}#sk-container-id-3 div.sk-serial::before {content: \"\";position: absolute;border-left: 1px solid gray;box-sizing: border-box;top: 0;bottom: 0;left: 50%;z-index: 0;}#sk-container-id-3 div.sk-serial {display: flex;flex-direction: column;align-items: center;background-color: white;padding-right: 0.2em;padding-left: 0.2em;position: relative;}#sk-container-id-3 div.sk-item {position: relative;z-index: 1;}#sk-container-id-3 div.sk-parallel {display: flex;align-items: stretch;justify-content: center;background-color: white;position: relative;}#sk-container-id-3 div.sk-item::before, #sk-container-id-3 div.sk-parallel-item::before {content: \"\";position: absolute;border-left: 1px solid gray;box-sizing: border-box;top: 0;bottom: 0;left: 50%;z-index: -1;}#sk-container-id-3 div.sk-parallel-item {display: flex;flex-direction: column;z-index: 1;position: relative;background-color: white;}#sk-container-id-3 div.sk-parallel-item:first-child::after {align-self: flex-end;width: 50%;}#sk-container-id-3 div.sk-parallel-item:last-child::after {align-self: flex-start;width: 50%;}#sk-container-id-3 div.sk-parallel-item:only-child::after {width: 0;}#sk-container-id-3 div.sk-dashed-wrapped {border: 1px dashed gray;margin: 0 0.4em 0.5em 0.4em;box-sizing: border-box;padding-bottom: 0.4em;background-color: white;}#sk-container-id-3 div.sk-label label {font-family: monospace;font-weight: bold;display: inline-block;line-height: 1.2em;}#sk-container-id-3 div.sk-label-container {text-align: center;}#sk-container-id-3 div.sk-container {/* jupyter's `normalize.less` sets `[hidden] { display: none; }` but bootstrap.min.css set `[hidden] { display: none !important; }` so we also need the `!important` here to be able to override the default hidden behavior on the sphinx rendered scikit-learn.org. See: https://github.com/scikit-learn/scikit-learn/issues/21755 */display: inline-block !important;position: relative;}#sk-container-id-3 div.sk-text-repr-fallback {display: none;}</style><div id=\"sk-container-id-3\" class=\"sk-top-container\"><div class=\"sk-text-repr-fallback\"><pre>KNeighborsRegressor()</pre><b>In a Jupyter environment, please rerun this cell to show the HTML representation or trust the notebook. <br />On GitHub, the HTML representation is unable to render, please try loading this page with nbviewer.org.</b></div><div class=\"sk-container\" hidden><div class=\"sk-item\"><div class=\"sk-estimator sk-toggleable\"><input class=\"sk-toggleable__control sk-hidden--visually\" id=\"sk-estimator-id-3\" type=\"checkbox\" checked><label for=\"sk-estimator-id-3\" class=\"sk-toggleable__label sk-toggleable__label-arrow\">KNeighborsRegressor</label><div class=\"sk-toggleable__content\"><pre>KNeighborsRegressor()</pre></div></div></div></div></div>"
      ],
      "text/plain": [
       "KNeighborsRegressor()"
      ]
     },
     "execution_count": 39,
     "metadata": {},
     "output_type": "execute_result"
    }
   ],
   "source": [
    "knn_regressor.fit(X_train,y_train)"
   ]
  },
  {
   "cell_type": "code",
   "execution_count": 40,
   "id": "aaeef38f",
   "metadata": {},
   "outputs": [],
   "source": [
    "y_pred=knn_regressor.predict(X_test)"
   ]
  },
  {
   "cell_type": "code",
   "execution_count": 41,
   "id": "013e72b0",
   "metadata": {},
   "outputs": [
    {
     "name": "stdout",
     "output_type": "stream",
     "text": [
      "0.7666330246693972\n"
     ]
    }
   ],
   "source": [
    "knnr=r2_score(y_test,pred)\n",
    "print(knnr)"
   ]
  },
  {
   "cell_type": "code",
   "execution_count": 42,
   "id": "d87f0353",
   "metadata": {},
   "outputs": [
    {
     "name": "stdout",
     "output_type": "stream",
     "text": [
      "Mean Squared Error: 96473582082.16158\n"
     ]
    }
   ],
   "source": [
    "mse=mean_squared_error(y_test,y_pred)\n",
    "print(\"Mean Squared Error:\",mse)"
   ]
  },
  {
   "cell_type": "code",
   "execution_count": 43,
   "id": "5e5000e8",
   "metadata": {},
   "outputs": [
    {
     "name": "stdout",
     "output_type": "stream",
     "text": [
      "Root MSE: 310601.96728636726\n"
     ]
    }
   ],
   "source": [
    "print(\"Root MSE:\",sqrt(mean_squared_error(y_test,y_pred)))"
   ]
  },
  {
   "cell_type": "code",
   "execution_count": 44,
   "id": "5c1741f0",
   "metadata": {
    "collapsed": true
   },
   "outputs": [
    {
     "name": "stdout",
     "output_type": "stream",
     "text": [
      "When K =  1\n",
      "The Model training is completed\n",
      "When K =  2\n",
      "The Model training is completed\n",
      "When K =  3\n",
      "The Model training is completed\n",
      "When K =  4\n",
      "The Model training is completed\n",
      "When K =  5\n",
      "The Model training is completed\n",
      "When K =  6\n",
      "The Model training is completed\n",
      "When K =  7\n",
      "The Model training is completed\n",
      "When K =  8\n",
      "The Model training is completed\n",
      "When K =  9\n",
      "The Model training is completed\n"
     ]
    }
   ],
   "source": [
    "error = []\n",
    "k = []\n",
    "for i in range(1,10):\n",
    "    print(\"When K = \", i)\n",
    "    model = KNeighborsRegressor(n_neighbors=i)  #### By default it is 5\n",
    "    model_train = model.fit(X_train, y_train)\n",
    "    print(\"The Model training is completed\")\n",
    "    err = round(1- model_train.score(X_train, y_train),2)\n",
    "    error.append(err)\n",
    "    k.append(i)"
   ]
  },
  {
   "cell_type": "code",
   "execution_count": 45,
   "id": "9c53b41c",
   "metadata": {},
   "outputs": [
    {
     "data": {
      "text/plain": [
       "[0.0, 0.07, 0.1, 0.11, 0.13, 0.14, 0.14, 0.14, 0.15]"
      ]
     },
     "execution_count": 45,
     "metadata": {},
     "output_type": "execute_result"
    }
   ],
   "source": [
    "error\n"
   ]
  },
  {
   "cell_type": "code",
   "execution_count": 46,
   "id": "bf0c3a0e",
   "metadata": {},
   "outputs": [
    {
     "data": {
      "text/plain": [
       "[1, 2, 3, 4, 5, 6, 7, 8, 9]"
      ]
     },
     "execution_count": 46,
     "metadata": {},
     "output_type": "execute_result"
    }
   ],
   "source": [
    "k\n"
   ]
  },
  {
   "cell_type": "code",
   "execution_count": 47,
   "id": "f80725e3",
   "metadata": {},
   "outputs": [],
   "source": [
    "df = pd.DataFrame({'K':k,'Error':error})"
   ]
  },
  {
   "cell_type": "code",
   "execution_count": 48,
   "id": "d92cacab",
   "metadata": {},
   "outputs": [
    {
     "data": {
      "text/plain": [
       "<Axes: xlabel='K', ylabel='Error'>"
      ]
     },
     "execution_count": 48,
     "metadata": {},
     "output_type": "execute_result"
    },
    {
     "data": {
      "image/png": "[encoded data removed]",
      "text/plain": [
       "<Figure size 640x480 with 1 Axes>"
      ]
     },
     "metadata": {},
     "output_type": "display_data"
    }
   ],
   "source": [
    "sns.lineplot(x = 'K', y = 'Error', data = df)"
   ]
  },
  {
   "cell_type": "code",
   "execution_count": 49,
   "id": "95c81b88",
   "metadata": {},
   "outputs": [],
   "source": [
    "###### How to Save the Model\n",
    "import joblib"
   ]
  },
  {
   "cell_type": "code",
   "execution_count": 50,
   "id": "b9cece0e",
   "metadata": {},
   "outputs": [
    {
     "data": {
      "text/plain": [
       "['KNN_Reg.sav']"
      ]
     },
     "execution_count": 50,
     "metadata": {},
     "output_type": "execute_result"
    }
   ],
   "source": [
    "joblib.dump(model,'KNN_Reg.sav')"
   ]
  },
  {
   "cell_type": "code",
   "execution_count": null,
   "id": "ddc4842d",
   "metadata": {},
   "outputs": [],
   "source": []
  }
 ],
 "metadata": {
  "kernelspec": {
   "display_name": "Python 3 (ipykernel)",
   "language": "python",
   "name": "python3"
  },
  "language_info": {
   "codemirror_mode": {
    "name": "ipython",
    "version": 3
   },
   "file_extension": ".py",
   "mimetype": "text/x-python",
   "name": "python",
   "nbconvert_exporter": "python",
   "pygments_lexer": "ipython3",
   "version": "3.11.5"
  }
 },
 "nbformat": 4,
 "nbformat_minor": 5
}
